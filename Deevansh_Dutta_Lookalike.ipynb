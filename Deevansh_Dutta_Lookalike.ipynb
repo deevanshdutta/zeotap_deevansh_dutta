{
 "cells": [
  {
   "cell_type": "markdown",
   "metadata": {},
   "source": [
    "# Customer Lookalike Model\n",
    "\n",
    "## 1. Feature Engineering"
   ]
  },
  {
   "cell_type": "code",
   "execution_count": null,
   "metadata": {},
   "source": [
    "import pandas as pd\n",
    "import numpy as np\n",
    "from sklearn.preprocessing import StandardScaler\n",
    "from sklearn.metrics.pairwise import cosine_similarity\n",
    "\n",
    "# Load and prepare data\n",
    "customers_df = pd.read_csv('Customers.csv')\n",
    "transactions_df = pd.read_csv('Transactions.csv')\n",
    "\n",
    "# Create customer features\n",
    "def create_customer_features(customers_df, transactions_df):\n",
    "    # Calculate customer metrics\n",
    "    customer_metrics = transactions_df.groupby('CustomerID').agg({\n",
    "        'TotalValue': ['sum', 'mean', 'count'],\n",
    "        'Quantity': ['sum', 'mean']\n",
    "    })\n",
    "    \n",
    "    # Flatten column names\n",
    "    customer_metrics.columns = ['total_spend', 'avg_transaction', 'transaction_count',\n",
    "                               'total_quantity', 'avg_quantity']\n",
    "    \n",
    "    return customer_metrics\n",
    "\n",
    "customer_features = create_customer_features(customers_df, transactions_df)"
   ]
  },
  {
   "cell_type": "code",
   "execution_count": null,
   "metadata": {},
   "source": [
    "# Find similar customers\n",
    "def find_similar_customers(customer_id, features_df, n_similar=3):\n",
    "    # Calculate similarity\n",
    "    similarity_matrix = cosine_similarity(features_df)\n",
    "    \n",
    "    # Get customer index\n",
    "    customer_idx = features_df.index.get_loc(customer_id)\n",
    "    \n",
    "    # Get similar customers\n",
    "    similar_scores = similarity_matrix[customer_idx]\n",
    "    similar_customers = list(zip(features_df.index, similar_scores))\n",
    "    \n",
    "    # Sort and filter\n",
    "    similar_customers.sort(key=lambda x: x[1], reverse=True)\n",
    "    \n",
    "    # Return top N similar customers (excluding self)\n",
    "    return similar_customers[1:n_similar+1]\n",
    "\n",
    "# Generate lookalike recommendations for first 20 customers\n",
    "lookalike_results = {}\n",
    "for customer_id in customers_df['CustomerID'][:20]:\n",
    "    similar = find_similar_customers(customer_id, customer_features)\n",
    "    lookalike_results[customer_id] = similar"
   ]
  },
  {
   "cell_type": "code",
   "execution_count": null,
   "metadata": {},
   "source": [
    "# Save results to CSV\n",
    "results_df = pd.DataFrame({\n",
    "    'CustomerID': list(lookalike_results.keys()),\n",
    "    'SimilarCustomers': [str(v) for v in lookalike_results.values()]\n",
    "})\n",
    "results_df.to_csv('FirstName_LastName_Lookalike.csv', index=False)"
   ]
  }
 ],
 "metadata": {
  "kernelspec": {
   "display_name": "Python 3",
   "language": "python",
   "name": "python3"
  }
 }
}