{
 "cells": [
  {
   "cell_type": "markdown",
   "metadata": {},
   "source": [
    "# E-Commerce Data Analysis\n",
    "\n",
    "## 1. Data Loading and Initial Exploration"
   ]
  },
  {
   "cell_type": "code",
   "execution_count": null,
   "metadata": {},
   "source": [
    "import pandas as pd\n",
    "import numpy as np\n",
    "import matplotlib.pyplot as plt\n",
    "import seaborn as sns\n",
    "from datetime import datetime\n",
    "\n",
    "# Load the datasets\n",
    "customers_df = pd.read_csv('Customers.csv')\n",
    "products_df = pd.read_csv('Products.csv')\n",
    "transactions_df = pd.read_csv('Transactions.csv')\n",
    "\n",
    "# Convert date columns to datetime\n",
    "customers_df['SignupDate'] = pd.to_datetime(customers_df['SignupDate'], format='%d-%m-%Y')\n",
    "transactions_df['TransactionDate'] = pd.to_datetime(transactions_df['TransactionDate'].str.split().str[0], format='%d-%m-%Y')"
   ]
  },
  {
   "cell_type": "markdown",
   "metadata": {},
   "source": [
    "## 2. Exploratory Data Analysis"
   ]
  },
  {
   "cell_type": "code",
   "execution_count": null,
   "metadata": {},
   "source": [
    "# Customer Analysis\n",
    "print(\"Customer Distribution by Region\")\n",
    "print(customers_df['Region'].value_counts())\n",
    "\n",
    "# Product Analysis\n",
    "print(\"\\nProduct Distribution by Category\")\n",
    "print(products_df['Category'].value_counts())\n",
    "\n",
    "# Transaction Analysis\n",
    "print(\"\\nTransaction Statistics\")\n",
    "print(transactions_df['TotalValue'].describe())"
   ]
  },
  {
   "cell_type": "code",
   "execution_count": null,
   "metadata": {},
   "source": [
    "# Visualizations\n",
    "plt.figure(figsize=(12, 6))\n",
    "\n",
    "# Monthly sales trend\n",
    "transactions_df.groupby(transactions_df['TransactionDate'].dt.to_period('M'))['TotalValue'].sum().plot()\n",
    "plt.title('Monthly Sales Trend')\n",
    "plt.xlabel('Month')\n",
    "plt.ylabel('Total Sales')\n",
    "plt.show()"
   ]
  },
  {
   "cell_type": "markdown",
   "metadata": {},
   "source": [
    "## 3. Business Insights\n",
    "\n",
    "1. Customer Geographic Distribution\n",
    "2. Product Category Performance\n",
    "3. Sales Trends and Seasonality\n",
    "4. Customer Purchase Behavior\n",
    "5. Product Price Analysis"
   ]
  }
 ],
 "metadata": {
  "kernelspec": {
   "display_name": "Python 3",
   "language": "python",
   "name": "python3"
  }
 }
}